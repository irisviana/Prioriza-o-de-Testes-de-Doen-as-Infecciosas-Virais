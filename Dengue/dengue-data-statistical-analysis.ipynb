{
 "cells": [
  {
   "cell_type": "code",
   "execution_count": 1,
   "metadata": {
    "_cell_guid": "b1076dfc-b9ad-4769-8c92-a6c4dae69d19",
    "_uuid": "8f2839f25d086af736a60e9eeb907d3b93b6e0e5",
    "execution": {
     "iopub.execute_input": "2022-05-12T02:35:44.214186Z",
     "iopub.status.busy": "2022-05-12T02:35:44.213461Z",
     "iopub.status.idle": "2022-05-12T02:35:45.000808Z",
     "shell.execute_reply": "2022-05-12T02:35:45.000005Z",
     "shell.execute_reply.started": "2022-05-12T02:35:24.105100Z"
    },
    "papermill": {
     "duration": 0.808317,
     "end_time": "2022-05-12T02:35:45.000936",
     "exception": false,
     "start_time": "2022-05-12T02:35:44.192619",
     "status": "completed"
    },
    "tags": []
   },
   "outputs": [],
   "source": [
    "# This Python 3 environment comes with many helpful analytics libraries installed\n",
    "# It is defined by the kaggle/python Docker image: https://github.com/kaggle/docker-python\n",
    "# For example, here's several helpful packages to load\n",
    "\n",
    "import numpy as np # linear algebra\n",
    "import pandas as pd # data processing, CSV file I/O (e.g. pd.read_csv)\n",
    "from scipy import stats\n",
    "from scipy.stats import chi2\n",
    "# Input data files are available in the read-only \"../input/\" directory\n",
    "# For example, running this (by clicking run or pressing Shift+Enter) will list all files under the input directory\n",
    "\n",
    "import os\n",
    "\n",
    "\n",
    "# You can write up to 20GB to the current directory (/kaggle/working/) that gets preserved as output when you create a version using \"Save & Run All\" \n",
    "# You can also write temporary files to /kaggle/temp/, but they won't be saved outside of the current session"
   ]
  },
  {
   "cell_type": "code",
   "execution_count": 2,
   "metadata": {
    "_cell_guid": "79c7e3d0-c299-4dcb-8224-4455121ee9b0",
    "_uuid": "d629ff2d2480ee46fbb7e2d37f6b5fab8052498a",
    "execution": {
     "iopub.execute_input": "2022-05-12T02:35:45.037978Z",
     "iopub.status.busy": "2022-05-12T02:35:45.037228Z",
     "iopub.status.idle": "2022-05-12T02:35:45.094588Z",
     "shell.execute_reply": "2022-05-12T02:35:45.093953Z",
     "shell.execute_reply.started": "2022-05-12T02:35:24.142356Z"
    },
    "papermill": {
     "duration": 0.08191,
     "end_time": "2022-05-12T02:35:45.094727",
     "exception": false,
     "start_time": "2022-05-12T02:35:45.012817",
     "status": "completed"
    },
    "tags": []
   },
   "outputs": [],
   "source": [
    "both_data = pd.read_csv(\"/kaggle/input/dengue-dataset/both_dengue_data.csv\")\n",
    "both_data_unb = pd.read_csv(\"../input/dataset-dengue-unbalanced/both_dengue_data_unb.csv\")\n",
    "both_data_unb['Class'] = both_data_unb['tp_classificacao_final'].values\n",
    "del both_data_unb['tp_classificacao_final']"
   ]
  },
  {
   "cell_type": "code",
   "execution_count": 3,
   "metadata": {
    "execution": {
     "iopub.execute_input": "2022-05-12T02:35:45.122499Z",
     "iopub.status.busy": "2022-05-12T02:35:45.121737Z",
     "iopub.status.idle": "2022-05-12T02:35:45.163579Z",
     "shell.execute_reply": "2022-05-12T02:35:45.164100Z",
     "shell.execute_reply.started": "2022-05-12T02:35:24.186256Z"
    },
    "papermill": {
     "duration": 0.057369,
     "end_time": "2022-05-12T02:35:45.164295",
     "exception": false,
     "start_time": "2022-05-12T02:35:45.106926",
     "status": "completed"
    },
    "tags": []
   },
   "outputs": [],
   "source": [
    "fem_data = pd.read_csv(\"../input/dengue-dataset/fem_dengue_data.csv\")\n",
    "fem_data_unb = pd.read_csv(\"../input/dataset-dengue-unbalanced/fem_dengue_data_unb.csv\")\n",
    "fem_data_unb['Class'] = fem_data_unb['tp_classificacao_final'].values\n",
    "del fem_data_unb['tp_classificacao_final']"
   ]
  },
  {
   "cell_type": "code",
   "execution_count": 4,
   "metadata": {
    "execution": {
     "iopub.execute_input": "2022-05-12T02:35:45.191480Z",
     "iopub.status.busy": "2022-05-12T02:35:45.190750Z",
     "iopub.status.idle": "2022-05-12T02:35:45.231224Z",
     "shell.execute_reply": "2022-05-12T02:35:45.231844Z",
     "shell.execute_reply.started": "2022-05-12T02:35:24.216093Z"
    },
    "papermill": {
     "duration": 0.056026,
     "end_time": "2022-05-12T02:35:45.232002",
     "exception": false,
     "start_time": "2022-05-12T02:35:45.175976",
     "status": "completed"
    },
    "tags": []
   },
   "outputs": [],
   "source": [
    "mas_data = pd.read_csv(\"../input/dengue-dataset/ma_dengue_data.csv\")\n",
    "mas_data_unb = pd.read_csv(\"../input/dataset-dengue-unbalanced/ma_dengue_data_unb.csv\")\n",
    "mas_data_unb['Class'] = mas_data_unb['tp_classificacao_final'].values\n",
    "del mas_data_unb['tp_classificacao_final']"
   ]
  },
  {
   "cell_type": "code",
   "execution_count": 5,
   "metadata": {
    "execution": {
     "iopub.execute_input": "2022-05-12T02:35:45.258755Z",
     "iopub.status.busy": "2022-05-12T02:35:45.258053Z",
     "iopub.status.idle": "2022-05-12T02:35:45.278060Z",
     "shell.execute_reply": "2022-05-12T02:35:45.278710Z",
     "shell.execute_reply.started": "2022-05-12T02:35:24.241727Z"
    },
    "papermill": {
     "duration": 0.035201,
     "end_time": "2022-05-12T02:35:45.278868",
     "exception": false,
     "start_time": "2022-05-12T02:35:45.243667",
     "status": "completed"
    },
    "tags": []
   },
   "outputs": [],
   "source": [
    "def set_crosstab(dt):\n",
    "   \n",
    "    final_crosstab = []\n",
    "    for c in dt.columns[:14]:\n",
    "        data=pd.crosstab(index=dt[c],columns=dt[\"Class\"])\n",
    "        data['sum']=None\n",
    "        data['p_t']=None\n",
    "        data['p_p']=None\n",
    "        data['p_n']=None\n",
    "        data.iloc[:1,2:3]=data[0][0]+data[1][0]\n",
    "        data.iloc[1:2,2:3]=data[0][1]+data[1][1]\n",
    "        data.iloc[:1,3:4]=data.iloc[:1,2:3].values[0][0]*100/len(dt)\n",
    "        data.iloc[1:2,3:4]=data.iloc[1:2,2:3].values[0][0]*100/len(dt)\n",
    "        data.iloc[:1,4:5]=data.iloc[:1,:1].values[0][0]*data.iloc[:1,3:4].values[0][0]/data.iloc[:1,2:3].values[0][0]\n",
    "        data.iloc[1:2,4:5]=data.iloc[1:2,:1].values[0][0]*data.iloc[1:2,3:4].values[0][0]/data.iloc[1:2,2:3].values[0][0]\n",
    "        data.iloc[:1,5:6]=data.iloc[:1,1:2].values[0][0]*data.iloc[:1,3:4].values[0][0]/data.iloc[:1,2:3].values[0][0]\n",
    "        data.iloc[1:2,5:6]=data.iloc[1:2,1:2].values[0][0]*data.iloc[1:2,3:4].values[0][0]/data.iloc[1:2,2:3].values[0][0]\n",
    "        print(data, '\\n')\n",
    "    "
   ]
  },
  {
   "cell_type": "code",
   "execution_count": 6,
   "metadata": {
    "execution": {
     "iopub.execute_input": "2022-05-12T02:35:45.312093Z",
     "iopub.status.busy": "2022-05-12T02:35:45.311437Z",
     "iopub.status.idle": "2022-05-12T02:35:45.314578Z",
     "shell.execute_reply": "2022-05-12T02:35:45.314034Z",
     "shell.execute_reply.started": "2022-05-12T02:35:24.265157Z"
    },
    "papermill": {
     "duration": 0.024285,
     "end_time": "2022-05-12T02:35:45.314700",
     "exception": false,
     "start_time": "2022-05-12T02:35:45.290415",
     "status": "completed"
    },
    "tags": []
   },
   "outputs": [],
   "source": [
    "def test_statistic_chi2(value,data):\n",
    "    test_result=pd.crosstab(index=data[value],columns=data[\"Class\"])\n",
    "\n",
    "    test_statistic, p_value, dof, expected=stats.chi2_contingency([test_result.iloc[0].values,\n",
    "                                           test_result.iloc[1].values],correction=True)\n",
    "    alpha = 0.01\n",
    "    if p_value <= alpha:\n",
    "        print('Dependent (reject H0)')\n",
    "    else:\n",
    "        print('Independent (fail to reject H0)')\n",
    "        \n",
    "def print_stattistic_chi2_result(data):\n",
    "    for column in data.columns[:13]:\n",
    "        print(f'{column} :')\n",
    "        test_statistic_chi2(column,both_data)\n",
    "        print('\\n')\n",
    "        "
   ]
  },
  {
   "cell_type": "markdown",
   "metadata": {
    "papermill": {
     "duration": 0.011514,
     "end_time": "2022-05-12T02:35:45.337871",
     "exception": false,
     "start_time": "2022-05-12T02:35:45.326357",
     "status": "completed"
    },
    "tags": []
   },
   "source": [
    "# Balanced"
   ]
  },
  {
   "cell_type": "code",
   "execution_count": 7,
   "metadata": {
    "execution": {
     "iopub.execute_input": "2022-05-12T02:35:45.368724Z",
     "iopub.status.busy": "2022-05-12T02:35:45.367421Z",
     "iopub.status.idle": "2022-05-12T02:35:45.584240Z",
     "shell.execute_reply": "2022-05-12T02:35:45.584759Z",
     "shell.execute_reply.started": "2022-05-12T02:35:24.280302Z"
    },
    "papermill": {
     "duration": 0.234885,
     "end_time": "2022-05-12T02:35:45.584903",
     "exception": false,
     "start_time": "2022-05-12T02:35:45.350018",
     "status": "completed"
    },
    "tags": []
   },
   "outputs": [
    {
     "name": "stdout",
     "output_type": "stream",
     "text": [
      "Gender :\n",
      "Independent (fail to reject H0)\n",
      "\n",
      "\n",
      "Symptom- Fever :\n",
      "Dependent (reject H0)\n",
      "\n",
      "\n",
      "Symptom- Myalgia :\n",
      "Dependent (reject H0)\n",
      "\n",
      "\n",
      "Symptom- Headache :\n",
      "Dependent (reject H0)\n",
      "\n",
      "\n",
      "Symptom- exanthema :\n",
      "Dependent (reject H0)\n",
      "\n",
      "\n",
      "Symptom- Vomit :\n",
      "Dependent (reject H0)\n",
      "\n",
      "\n",
      "Symptom- Nausea :\n",
      "Independent (fail to reject H0)\n",
      "\n",
      "\n",
      "Symptom- backache :\n",
      "Dependent (reject H0)\n",
      "\n",
      "\n",
      "Symptom- conjunctivitis :\n",
      "Dependent (reject H0)\n",
      "\n",
      "\n",
      "Symptom- arthritis :\n",
      "Dependent (reject H0)\n",
      "\n",
      "\n",
      "Symptom- arthralgia :\n",
      "Independent (fail to reject H0)\n",
      "\n",
      "\n",
      "Symptom- petechia :\n",
      "Dependent (reject H0)\n",
      "\n",
      "\n",
      "Symptom- leucopenia :\n",
      "Independent (fail to reject H0)\n",
      "\n",
      "\n"
     ]
    }
   ],
   "source": [
    "# set_crosstab(fem_data)\n",
    "print_stattistic_chi2_result(fem_data)"
   ]
  },
  {
   "cell_type": "code",
   "execution_count": 8,
   "metadata": {
    "execution": {
     "iopub.execute_input": "2022-05-12T02:35:45.617978Z",
     "iopub.status.busy": "2022-05-12T02:35:45.617113Z",
     "iopub.status.idle": "2022-05-12T02:35:45.785432Z",
     "shell.execute_reply": "2022-05-12T02:35:45.786286Z",
     "shell.execute_reply.started": "2022-05-12T02:35:24.464660Z"
    },
    "papermill": {
     "duration": 0.188787,
     "end_time": "2022-05-12T02:35:45.786448",
     "exception": false,
     "start_time": "2022-05-12T02:35:45.597661",
     "status": "completed"
    },
    "tags": []
   },
   "outputs": [
    {
     "name": "stdout",
     "output_type": "stream",
     "text": [
      "Gender :\n",
      "Independent (fail to reject H0)\n",
      "\n",
      "\n",
      "Symptom- Fever :\n",
      "Dependent (reject H0)\n",
      "\n",
      "\n",
      "Symptom- Myalgia :\n",
      "Dependent (reject H0)\n",
      "\n",
      "\n",
      "Symptom- Headache :\n",
      "Dependent (reject H0)\n",
      "\n",
      "\n",
      "Symptom- exanthema :\n",
      "Dependent (reject H0)\n",
      "\n",
      "\n",
      "Symptom- Vomit :\n",
      "Dependent (reject H0)\n",
      "\n",
      "\n",
      "Symptom- Nausea :\n",
      "Independent (fail to reject H0)\n",
      "\n",
      "\n",
      "Symptom- backache :\n",
      "Dependent (reject H0)\n",
      "\n",
      "\n",
      "Symptom- conjunctivitis :\n",
      "Dependent (reject H0)\n",
      "\n",
      "\n",
      "Symptom- arthritis :\n",
      "Dependent (reject H0)\n",
      "\n",
      "\n",
      "Symptom- arthralgia :\n",
      "Independent (fail to reject H0)\n",
      "\n",
      "\n",
      "Symptom- petechia :\n",
      "Dependent (reject H0)\n",
      "\n",
      "\n",
      "Symptom- leucopenia :\n",
      "Independent (fail to reject H0)\n",
      "\n",
      "\n"
     ]
    }
   ],
   "source": [
    "# set_crosstab(mas_data)\n",
    "print_stattistic_chi2_result(mas_data)"
   ]
  },
  {
   "cell_type": "code",
   "execution_count": 9,
   "metadata": {
    "execution": {
     "iopub.execute_input": "2022-05-12T02:35:45.842356Z",
     "iopub.status.busy": "2022-05-12T02:35:45.818375Z",
     "iopub.status.idle": "2022-05-12T02:35:46.347561Z",
     "shell.execute_reply": "2022-05-12T02:35:46.346607Z",
     "shell.execute_reply.started": "2022-05-12T02:35:24.652305Z"
    },
    "papermill": {
     "duration": 0.54854,
     "end_time": "2022-05-12T02:35:46.347754",
     "exception": false,
     "start_time": "2022-05-12T02:35:45.799214",
     "status": "completed"
    },
    "tags": []
   },
   "outputs": [
    {
     "name": "stdout",
     "output_type": "stream",
     "text": [
      "Class   0.0  1.0   sum      p_t      p_p      p_n\n",
      "Gender                                           \n",
      "0.0     692  692  1384  50.8076  25.4038  25.4038\n",
      "1.0     670  670  1340  49.1924  24.5962  24.5962 \n",
      "\n",
      "Class            0.0  1.0   sum      p_t       p_p      p_n\n",
      "Symptom- Fever                                             \n",
      "0.0             1335  917  2252  82.6725   49.0088  33.6637\n",
      "1.0               27  445   472  17.3275  0.991189  16.3363 \n",
      "\n",
      "Class              0.0  1.0   sum      p_t      p_p      p_n\n",
      "Symptom- Myalgia                                            \n",
      "0.0               1041  461  1502  55.1395  38.2159  16.9236\n",
      "1.0                321  901  1222  44.8605  11.7841  33.0764 \n",
      "\n",
      "Class               0.0  1.0   sum      p_t     p_p      p_n\n",
      "Symptom- Headache                                           \n",
      "0.0                1030  532  1562  57.3421  37.812  19.5301\n",
      "1.0                 332  830  1162  42.6579  12.188  30.4699 \n",
      "\n",
      "Class               0.0   1.0   sum      p_t      p_p      p_n\n",
      "Symptom- exanthema                                            \n",
      "0.0                 378   283   661  24.2658  13.8767  10.3891\n",
      "1.0                 984  1079  2063  75.7342  36.1233  39.6109 \n",
      "\n",
      "Class           0.0   1.0   sum      p_t     p_p      p_n\n",
      "Symptom- Vomit                                           \n",
      "0.0             387   316   703  25.8076  14.207  11.6006\n",
      "1.0             975  1046  2021  74.1924  35.793  38.3994 \n",
      "\n",
      "Class             0.0   1.0   sum      p_t      p_p      p_n\n",
      "Symptom- Nausea                                             \n",
      "0.0               243   202   445  16.3363   8.9207  7.41557\n",
      "1.0              1119  1160  2279  83.6637  41.0793  42.5844 \n",
      "\n",
      "Class               0.0   1.0   sum      p_t      p_p      p_n\n",
      "Symptom- backache                                             \n",
      "0.0                  81   127   208  7.63583  2.97357  4.66226\n",
      "1.0                1281  1235  2516  92.3642  47.0264  45.3377 \n",
      "\n",
      "Class                     0.0   1.0   sum      p_t       p_p      p_n\n",
      "Symptom- conjunctivitis                                              \n",
      "0.0                        13    75    88  3.23054  0.477239   2.7533\n",
      "1.0                      1349  1287  2636  96.7695   49.5228  47.2467 \n",
      "\n",
      "Class                0.0   1.0   sum      p_t      p_p      p_n\n",
      "Symptom- arthritis                                             \n",
      "0.0                   30   101   131   4.8091  1.10132  3.70778\n",
      "1.0                 1332  1261  2593  95.1909  48.8987  46.2922 \n",
      "\n",
      "Class                 0.0   1.0   sum      p_t      p_p      p_n\n",
      "Symptom- arthralgia                                             \n",
      "0.0                   252   202   454  16.6667   9.2511  7.41557\n",
      "1.0                  1110  1160  2270  83.3333  40.7489  42.5844 \n",
      "\n",
      "Class               0.0   1.0   sum      p_t      p_p      p_n\n",
      "Symptom- petechia                                             \n",
      "0.0                  37   103   140   5.1395   1.3583   3.7812\n",
      "1.0                1325  1259  2584  94.8605  48.6417  46.2188 \n",
      "\n",
      "Class                 0.0   1.0   sum      p_t      p_p      p_n\n",
      "Symptom- leucopenia                                             \n",
      "0.0                   107    74   181  6.64464  3.92805  2.71659\n",
      "1.0                  1255  1288  2543  93.3554   46.072  47.2834 \n",
      "\n",
      "Class                 0.0   1.0   sum      p_t     p_p      p_n\n",
      "Symptom- retro_pain                                            \n",
      "0.0                   121   111   232  8.51689   4.442  4.07489\n",
      "1.0                  1241  1251  2492  91.4831  45.558  45.9251 \n",
      "\n",
      "Gender :\n",
      "Independent (fail to reject H0)\n",
      "\n",
      "\n",
      "Symptom- Fever :\n",
      "Dependent (reject H0)\n",
      "\n",
      "\n",
      "Symptom- Myalgia :\n",
      "Dependent (reject H0)\n",
      "\n",
      "\n",
      "Symptom- Headache :\n",
      "Dependent (reject H0)\n",
      "\n",
      "\n",
      "Symptom- exanthema :\n",
      "Dependent (reject H0)\n",
      "\n",
      "\n",
      "Symptom- Vomit :\n",
      "Dependent (reject H0)\n",
      "\n",
      "\n",
      "Symptom- Nausea :\n",
      "Independent (fail to reject H0)\n",
      "\n",
      "\n",
      "Symptom- backache :\n",
      "Dependent (reject H0)\n",
      "\n",
      "\n",
      "Symptom- conjunctivitis :\n",
      "Dependent (reject H0)\n",
      "\n",
      "\n",
      "Symptom- arthritis :\n",
      "Dependent (reject H0)\n",
      "\n",
      "\n",
      "Symptom- arthralgia :\n",
      "Independent (fail to reject H0)\n",
      "\n",
      "\n",
      "Symptom- petechia :\n",
      "Dependent (reject H0)\n",
      "\n",
      "\n",
      "Symptom- leucopenia :\n",
      "Independent (fail to reject H0)\n",
      "\n",
      "\n"
     ]
    }
   ],
   "source": [
    "set_crosstab(both_data)\n",
    "print_stattistic_chi2_result(both_data)"
   ]
  },
  {
   "cell_type": "markdown",
   "metadata": {
    "papermill": {
     "duration": 0.014189,
     "end_time": "2022-05-12T02:35:46.377987",
     "exception": false,
     "start_time": "2022-05-12T02:35:46.363798",
     "status": "completed"
    },
    "tags": []
   },
   "source": [
    "# Unbalanced"
   ]
  },
  {
   "cell_type": "code",
   "execution_count": 10,
   "metadata": {
    "execution": {
     "iopub.execute_input": "2022-05-12T02:35:46.414557Z",
     "iopub.status.busy": "2022-05-12T02:35:46.413439Z",
     "iopub.status.idle": "2022-05-12T02:35:46.619035Z",
     "shell.execute_reply": "2022-05-12T02:35:46.618317Z",
     "shell.execute_reply.started": "2022-05-12T02:35:25.180566Z"
    },
    "papermill": {
     "duration": 0.226728,
     "end_time": "2022-05-12T02:35:46.619198",
     "exception": false,
     "start_time": "2022-05-12T02:35:46.392470",
     "status": "completed"
    },
    "tags": []
   },
   "outputs": [
    {
     "name": "stdout",
     "output_type": "stream",
     "text": [
      "Gender :\n",
      "Independent (fail to reject H0)\n",
      "\n",
      "\n",
      "Symptom- Fever :\n",
      "Dependent (reject H0)\n",
      "\n",
      "\n",
      "Symptom- Myalgia :\n",
      "Dependent (reject H0)\n",
      "\n",
      "\n",
      "Symptom- Headache :\n",
      "Dependent (reject H0)\n",
      "\n",
      "\n",
      "Symptom- exanthema :\n",
      "Dependent (reject H0)\n",
      "\n",
      "\n",
      "Symptom- Vomit :\n",
      "Dependent (reject H0)\n",
      "\n",
      "\n",
      "Symptom- Nausea :\n",
      "Independent (fail to reject H0)\n",
      "\n",
      "\n",
      "Symptom- backache :\n",
      "Dependent (reject H0)\n",
      "\n",
      "\n",
      "Symptom- conjunctivitis :\n",
      "Dependent (reject H0)\n",
      "\n",
      "\n",
      "Symptom- arthritis :\n",
      "Dependent (reject H0)\n",
      "\n",
      "\n",
      "Symptom- arthralgia :\n",
      "Independent (fail to reject H0)\n",
      "\n",
      "\n",
      "Symptom- petechia :\n",
      "Dependent (reject H0)\n",
      "\n",
      "\n",
      "Symptom- leucopenia :\n",
      "Independent (fail to reject H0)\n",
      "\n",
      "\n"
     ]
    }
   ],
   "source": [
    "# set_crosstab(fem_data_unb)\n",
    "print_stattistic_chi2_result(fem_data_unb)"
   ]
  },
  {
   "cell_type": "code",
   "execution_count": 11,
   "metadata": {
    "execution": {
     "iopub.execute_input": "2022-05-12T02:35:46.657091Z",
     "iopub.status.busy": "2022-05-12T02:35:46.656313Z",
     "iopub.status.idle": "2022-05-12T02:35:46.838990Z",
     "shell.execute_reply": "2022-05-12T02:35:46.839514Z",
     "shell.execute_reply.started": "2022-05-12T02:35:25.373600Z"
    },
    "papermill": {
     "duration": 0.205595,
     "end_time": "2022-05-12T02:35:46.839692",
     "exception": false,
     "start_time": "2022-05-12T02:35:46.634097",
     "status": "completed"
    },
    "tags": []
   },
   "outputs": [
    {
     "name": "stdout",
     "output_type": "stream",
     "text": [
      "Gender :\n",
      "Independent (fail to reject H0)\n",
      "\n",
      "\n",
      "Symptom- Fever :\n",
      "Dependent (reject H0)\n",
      "\n",
      "\n",
      "Symptom- Myalgia :\n",
      "Dependent (reject H0)\n",
      "\n",
      "\n",
      "Symptom- Headache :\n",
      "Dependent (reject H0)\n",
      "\n",
      "\n",
      "Symptom- exanthema :\n",
      "Dependent (reject H0)\n",
      "\n",
      "\n",
      "Symptom- Vomit :\n",
      "Dependent (reject H0)\n",
      "\n",
      "\n",
      "Symptom- Nausea :\n",
      "Independent (fail to reject H0)\n",
      "\n",
      "\n",
      "Symptom- backache :\n",
      "Dependent (reject H0)\n",
      "\n",
      "\n",
      "Symptom- conjunctivitis :\n",
      "Dependent (reject H0)\n",
      "\n",
      "\n",
      "Symptom- arthritis :\n",
      "Dependent (reject H0)\n",
      "\n",
      "\n",
      "Symptom- arthralgia :\n",
      "Independent (fail to reject H0)\n",
      "\n",
      "\n",
      "Symptom- petechia :\n",
      "Dependent (reject H0)\n",
      "\n",
      "\n",
      "Symptom- leucopenia :\n",
      "Independent (fail to reject H0)\n",
      "\n",
      "\n"
     ]
    }
   ],
   "source": [
    "# set_crosstab(mas_data_unb)\n",
    "print_stattistic_chi2_result(mas_data_unb)"
   ]
  },
  {
   "cell_type": "code",
   "execution_count": 12,
   "metadata": {
    "execution": {
     "iopub.execute_input": "2022-05-12T02:35:46.881754Z",
     "iopub.status.busy": "2022-05-12T02:35:46.880657Z",
     "iopub.status.idle": "2022-05-12T02:35:47.399991Z",
     "shell.execute_reply": "2022-05-12T02:35:47.399416Z",
     "shell.execute_reply.started": "2022-05-12T02:35:25.567358Z"
    },
    "papermill": {
     "duration": 0.543731,
     "end_time": "2022-05-12T02:35:47.400106",
     "exception": false,
     "start_time": "2022-05-12T02:35:46.856375",
     "status": "completed"
    },
    "tags": []
   },
   "outputs": [
    {
     "name": "stdout",
     "output_type": "stream",
     "text": [
      "Class    0.0  1.0   sum     p_t      p_p      p_n\n",
      "Gender                                           \n",
      "0       1986  692  2678  53.156  39.4204  13.7356\n",
      "1       1690  670  2360  46.844  33.5451  13.2989 \n",
      "\n",
      "Class            0.0  1.0   sum     p_t      p_p      p_n\n",
      "Symptom- Fever                                           \n",
      "0.0             3584  917  4501  89.341  71.1393  18.2017\n",
      "1.0               92  445   537  10.659  1.82612  8.83287 \n",
      "\n",
      "Class              0.0  1.0   sum      p_t      p_p      p_n\n",
      "Symptom- Myalgia                                            \n",
      "0.0               2907  461  3368  66.8519  57.7015  9.15046\n",
      "1.0                769  901  1670  33.1481   15.264  17.8841 \n",
      "\n",
      "Class               0.0  1.0   sum      p_t      p_p      p_n\n",
      "Symptom- Headache                                            \n",
      "0.0                2800  532  3332  66.1374  55.5776  10.5597\n",
      "1.0                 876  830  1706  33.8626  17.3879  16.4748 \n",
      "\n",
      "Class                0.0   1.0   sum     p_t      p_p      p_n\n",
      "Symptom- exanthema                                            \n",
      "0.0                 1467   283  1750  34.736  29.1187  5.61731\n",
      "1.0                 2209  1079  3288  65.264  43.8468  21.4172 \n",
      "\n",
      "Class            0.0   1.0   sum      p_t      p_p      p_n\n",
      "Symptom- Vomit                                             \n",
      "0.0             1125   316  1441  28.6026  22.3303  6.27233\n",
      "1.0             2551  1046  3597  71.3974  50.6352  20.7622 \n",
      "\n",
      "Class             0.0   1.0   sum      p_t      p_p      p_n\n",
      "Symptom- Nausea                                             \n",
      "0.0               955   202  1157  22.9655  18.9559  4.00953\n",
      "1.0              2721  1160  3881  77.0345  54.0095   23.025 \n",
      "\n",
      "Class               0.0   1.0   sum      p_t      p_p      p_n\n",
      "Symptom- backache                                             \n",
      "0.0                 452   127   579  11.4927  8.97181  2.52084\n",
      "1.0                3224  1235  4459  88.5073  63.9936  24.5137 \n",
      "\n",
      "Class                     0.0   1.0   sum      p_t      p_p      p_n\n",
      "Symptom- conjunctivitis                                             \n",
      "0.0                       127    75   202  4.00953  2.52084  1.48869\n",
      "1.0                      3549  1287  4836  95.9905  70.4446  25.5459 \n",
      "\n",
      "Class                0.0   1.0   sum      p_t      p_p      p_n\n",
      "Symptom- arthritis                                             \n",
      "0.0                  249   101   350   6.9472  4.94244  2.00476\n",
      "1.0                 3427  1261  4688  93.0528   68.023  25.0298 \n",
      "\n",
      "Class                 0.0   1.0   sum      p_t      p_p      p_n\n",
      "Symptom- arthralgia                                             \n",
      "0.0                   992   202  1194  23.6999  19.6904  4.00953\n",
      "1.0                  2684  1160  3844  76.3001  53.2751   23.025 \n",
      "\n",
      "Class               0.0   1.0   sum      p_t      p_p      p_n\n",
      "Symptom- petechia                                             \n",
      "0.0                 276   103   379  7.52283  5.47836  2.04446\n",
      "1.0                3400  1259  4659  92.4772  67.4871  24.9901 \n",
      "\n",
      "Class                 0.0   1.0   sum      p_t      p_p      p_n\n",
      "Symptom- leucopenia                                             \n",
      "0.0                   340    74   414  8.21755  6.74871  1.46884\n",
      "1.0                  3336  1288  4624  91.7825  66.2168  25.5657 \n",
      "\n",
      "Class                 0.0   1.0   sum     p_t      p_p      p_n\n",
      "Symptom- retro_pain                                            \n",
      "0.0                   638   111   749  14.867  12.6638  2.20326\n",
      "1.0                  3038  1251  4289  85.133  60.3017  24.8313 \n",
      "\n",
      "Gender :\n",
      "Independent (fail to reject H0)\n",
      "\n",
      "\n",
      "Symptom- Fever :\n",
      "Dependent (reject H0)\n",
      "\n",
      "\n",
      "Symptom- Myalgia :\n",
      "Dependent (reject H0)\n",
      "\n",
      "\n",
      "Symptom- Headache :\n",
      "Dependent (reject H0)\n",
      "\n",
      "\n",
      "Symptom- exanthema :\n",
      "Dependent (reject H0)\n",
      "\n",
      "\n",
      "Symptom- Vomit :\n",
      "Dependent (reject H0)\n",
      "\n",
      "\n",
      "Symptom- Nausea :\n",
      "Independent (fail to reject H0)\n",
      "\n",
      "\n",
      "Symptom- backache :\n",
      "Dependent (reject H0)\n",
      "\n",
      "\n",
      "Symptom- conjunctivitis :\n",
      "Dependent (reject H0)\n",
      "\n",
      "\n",
      "Symptom- arthritis :\n",
      "Dependent (reject H0)\n",
      "\n",
      "\n",
      "Symptom- arthralgia :\n",
      "Independent (fail to reject H0)\n",
      "\n",
      "\n",
      "Symptom- petechia :\n",
      "Dependent (reject H0)\n",
      "\n",
      "\n",
      "Symptom- leucopenia :\n",
      "Independent (fail to reject H0)\n",
      "\n",
      "\n"
     ]
    }
   ],
   "source": [
    "set_crosstab(both_data_unb)\n",
    "print_stattistic_chi2_result(both_data_unb)"
   ]
  }
 ],
 "metadata": {
  "kernelspec": {
   "display_name": "Python 3",
   "language": "python",
   "name": "python3"
  },
  "language_info": {
   "codemirror_mode": {
    "name": "ipython",
    "version": 3
   },
   "file_extension": ".py",
   "mimetype": "text/x-python",
   "name": "python",
   "nbconvert_exporter": "python",
   "pygments_lexer": "ipython3",
   "version": "3.7.6"
  },
  "papermill": {
   "duration": 8.203157,
   "end_time": "2022-05-12T02:35:47.525209",
   "environment_variables": {},
   "exception": null,
   "input_path": "__notebook__.ipynb",
   "output_path": "__notebook__.ipynb",
   "parameters": {},
   "start_time": "2022-05-12T02:35:39.322052",
   "version": "2.1.0"
  }
 },
 "nbformat": 4,
 "nbformat_minor": 4
}
