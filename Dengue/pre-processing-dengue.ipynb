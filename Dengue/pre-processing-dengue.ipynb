{
 "cells": [
  {
   "cell_type": "code",
   "execution_count": 1,
   "metadata": {
    "_cell_guid": "b1076dfc-b9ad-4769-8c92-a6c4dae69d19",
    "_uuid": "8f2839f25d086af736a60e9eeb907d3b93b6e0e5",
    "execution": {
     "iopub.execute_input": "2022-05-15T21:15:03.267928Z",
     "iopub.status.busy": "2022-05-15T21:15:03.266176Z",
     "iopub.status.idle": "2022-05-15T21:15:04.875139Z",
     "shell.execute_reply": "2022-05-15T21:15:04.875677Z"
    },
    "papermill": {
     "duration": 1.640083,
     "end_time": "2022-05-15T21:15:04.876362",
     "exception": false,
     "start_time": "2022-05-15T21:15:03.236279",
     "status": "completed"
    },
    "tags": []
   },
   "outputs": [
    {
     "name": "stdout",
     "output_type": "stream",
     "text": [
      "/kaggle/input/dengue2013/casos-dengue2013.csv\n",
      "/kaggle/input/dengue2017/dengue2017.csv\n",
      "/kaggle/input/dengue2015/dengue2015.csv\n",
      "/kaggle/input/dengue2014/casos-dengue2014.csv\n",
      "/kaggle/input/dengue2019/dengue2019.csv\n",
      "/kaggle/input/dengue2016/dengue2016.csv\n",
      "/kaggle/input/dengue2020/dengue2020.csv\n",
      "/kaggle/input/dengue2018/dengue2018.csv\n"
     ]
    }
   ],
   "source": [
    "# This Python 3 environment comes with many helpful analytics libraries installed\n",
    "# It is defined by the kaggle/python Docker image: https://github.com/kaggle/docker-python\n",
    "# For example, here's several helpful packages to load\n",
    "\n",
    "import numpy as np # linear algebra\n",
    "import pandas as pd # data processing, CSV file I/O (e.g. pd.read_csv)\n",
    "import csv\n",
    "from imblearn.under_sampling import NearMiss\n",
    "import seaborn as sns\n",
    "import re\n",
    "from sklearn.model_selection import train_test_split\n",
    "from sklearn.metrics import accuracy_score\n",
    "from sklearn import tree\n",
    "from sklearn.ensemble import RandomForestClassifier\n",
    "from sklearn.metrics import accuracy_score\n",
    "\n",
    "from sklearn.metrics import confusion_matrix\n",
    "from sklearn.metrics import mean_absolute_error\n",
    "from sklearn.metrics import precision_score\n",
    "from sklearn import metrics\n",
    "from sklearn.metrics import precision_recall_curve\n",
    "from scipy import stats\n",
    "from scipy.stats import chi2\n",
    "# Input data files are available in the read-only \"../input/\" directory\n",
    "# For example, running this (by clicking run or pressing Shift+Enter) will list all files under the input directory\n",
    "\n",
    "import os\n",
    "for dirname, _, filenames in os.walk('/kaggle/input'):\n",
    "    for filename in filenames:\n",
    "        print(os.path.join(dirname, filename))\n",
    "\n",
    "# You can write up to 20GB to the current directory (/kaggle/working/) that gets preserved as output when you create a version using \"Save & Run All\" \n",
    "# You can also write temporary files to /kaggle/temp/, but they won't be saved outside of the current session"
   ]
  },
  {
   "cell_type": "code",
   "execution_count": 2,
   "metadata": {
    "_cell_guid": "79c7e3d0-c299-4dcb-8224-4455121ee9b0",
    "_uuid": "d629ff2d2480ee46fbb7e2d37f6b5fab8052498a",
    "execution": {
     "iopub.execute_input": "2022-05-15T21:15:04.922970Z",
     "iopub.status.busy": "2022-05-15T21:15:04.921843Z",
     "iopub.status.idle": "2022-05-15T21:15:04.925757Z",
     "shell.execute_reply": "2022-05-15T21:15:04.926317Z"
    },
    "papermill": {
     "duration": 0.031292,
     "end_time": "2022-05-15T21:15:04.926473",
     "exception": false,
     "start_time": "2022-05-15T21:15:04.895181",
     "status": "completed"
    },
    "tags": []
   },
   "outputs": [],
   "source": [
    "#pre-processing data, delimiter \";\" to \",\"\n",
    "def read_file(ext,file_name):\n",
    "    reader = csv.reader(open(ext, \"rU\"), delimiter=';')\n",
    "    writer = csv.writer(open(file_name, 'w'), delimiter=',')\n",
    "    writer.writerows(reader)\n",
    "    data= pd.read_csv(\"/kaggle/working/\"+ file_name)\n",
    "    data=data[['tp_sexo','febre','mialgia','cefaleia','exantema','vomito',\n",
    "     'nausea','dor_costas','conjutivite','artrite','artralgia','petequia_n','leucopenia',\n",
    "     'dor_retro','tp_classificacao_final']]\n",
    " \n",
    "    data=data.fillna('n')\n",
    "    print('DATA SIZE', len(data))\n",
    "    data=data.replace(to_replace =['I'],value='n')\n",
    "    data=data[data[\"tp_classificacao_final\"]!='n']\n",
    "    return data\n"
   ]
  },
  {
   "cell_type": "code",
   "execution_count": 3,
   "metadata": {
    "execution": {
     "iopub.execute_input": "2022-05-15T21:15:04.974486Z",
     "iopub.status.busy": "2022-05-15T21:15:04.973339Z",
     "iopub.status.idle": "2022-05-15T21:15:04.975606Z",
     "shell.execute_reply": "2022-05-15T21:15:04.976447Z"
    },
    "papermill": {
     "duration": 0.032346,
     "end_time": "2022-05-15T21:15:04.976678",
     "exception": false,
     "start_time": "2022-05-15T21:15:04.944332",
     "status": "completed"
    },
    "tags": []
   },
   "outputs": [],
   "source": [
    "def select_antibody_test(data):\n",
    "    dt=data.copy()\n",
    "    del dt['tp_result_rtpcr']\n",
    "    \n",
    "    teste_ns1=dt[(dt[\"Tp_result_NS1\"]==1) | (dt[\"Tp_result_NS1\"]==2)]\n",
    "\n",
    "    teste_exame=dt[(dt[\"tp_result_exame\"]==1) | (dt[\"tp_result_exame\"]==2)]\n",
    "    del teste_exame['Tp_result_NS1']\n",
    "   \n",
    "    del teste_ns1['tp_result_exame']\n",
    "   \n",
    "    \n",
    "    teste_rapido=pd.concat([teste_ns1,teste_exame]).drop_duplicates()\n",
    "    teste_rapido=teste_rapido.fillna('n')\n",
    "    del teste_rapido['Tp_result_NS1']\n",
    "    del teste_rapido['tp_result_exame']\n",
    "    teste_rapido=teste_rapido.drop_duplicates()\n",
    "    return  teste_rapido\n"
   ]
  },
  {
   "cell_type": "code",
   "execution_count": 4,
   "metadata": {
    "execution": {
     "iopub.execute_input": "2022-05-15T21:15:05.025295Z",
     "iopub.status.busy": "2022-05-15T21:15:05.024579Z",
     "iopub.status.idle": "2022-05-15T21:15:05.034500Z",
     "shell.execute_reply": "2022-05-15T21:15:05.035167Z"
    },
    "papermill": {
     "duration": 0.033359,
     "end_time": "2022-05-15T21:15:05.035317",
     "exception": false,
     "start_time": "2022-05-15T21:15:05.001958",
     "status": "completed"
    },
    "tags": []
   },
   "outputs": [],
   "source": [
    "def set_date_exam(teste_rapido):\n",
    "    \n",
    "    dt_ns1=teste_rapido[teste_rapido['Tp_result_NS1']!='n']\n",
    "    dt_ns1=dt_ns1['dt_coleta_NS1'].values\n",
    "    dt_exame=teste_rapido[teste_rapido['tp_result_exame']!='n']\n",
    "    dt_exame=dt_exame['dt_coleta_exame'].values\n",
    "    teste_rapido['dt_coleta']=None\n",
    "    teste_rapido.iloc[:len(dt_ns1),20:]=dt_ns1\n",
    "    teste_rapido.iloc[len(dt_ns1):,20:]=dt_exame\n",
    "    \n",
    "    #deleting unused columns\n",
    "    del teste_rapido['dt_coleta_NS1']\n",
    "    del teste_rapido['dt_coleta_exame']\n",
    "    return teste_rapido\n",
    "#teste_rapido= set_date_exam(teste_rapido)"
   ]
  },
  {
   "cell_type": "code",
   "execution_count": 5,
   "metadata": {
    "execution": {
     "iopub.execute_input": "2022-05-15T21:15:05.077995Z",
     "iopub.status.busy": "2022-05-15T21:15:05.077007Z",
     "iopub.status.idle": "2022-05-15T21:15:05.085404Z",
     "shell.execute_reply": "2022-05-15T21:15:05.085982Z"
    },
    "papermill": {
     "duration": 0.030054,
     "end_time": "2022-05-15T21:15:05.086136",
     "exception": false,
     "start_time": "2022-05-15T21:15:05.056082",
     "status": "completed"
    },
    "tags": []
   },
   "outputs": [],
   "source": [
    "def select_patients_with_symp(data):\n",
    "    data=data[(data['febre']!='n') & (data['mialgia']!='n') & (data['cefaleia']!='n')&\n",
    "    (data['exantema']!='n') & (data['vomito']!='n') & (data['nausea']!='n') &\n",
    "    (data['dor_costas'] !='n') & (data['conjutivite']!='n') & (data['artrite'] !='n') &\n",
    "    (data['artralgia'] !='n' ) & (data['petequia_n'] !='n' ) & (data['leucopenia']!='n')\n",
    "    & (data['dor_retro']!='n')]\n",
    "    return data\n"
   ]
  },
  {
   "cell_type": "code",
   "execution_count": 6,
   "metadata": {
    "execution": {
     "iopub.execute_input": "2022-05-15T21:15:05.126509Z",
     "iopub.status.busy": "2022-05-15T21:15:05.125509Z",
     "iopub.status.idle": "2022-05-15T21:15:05.131360Z",
     "shell.execute_reply": "2022-05-15T21:15:05.131842Z"
    },
    "papermill": {
     "duration": 0.027891,
     "end_time": "2022-05-15T21:15:05.131995",
     "exception": false,
     "start_time": "2022-05-15T21:15:05.104104",
     "status": "completed"
    },
    "tags": []
   },
   "outputs": [],
   "source": [
    "def select_pcr_test(data):\n",
    "    dt=data.copy()\n",
    "    del dt['Tp_result_NS1']\n",
    "    \n",
    "\n",
    "    del dt['tp_result_exame']\n",
    "    \n",
    "\n",
    "    teste_pcr=dt[(dt[\"tp_result_rtpcr\"]==1)| (dt[\"tp_result_rtpcr\"]==2)]\n",
    "    \n",
    "    del teste_pcr[\"tp_result_rtpcr\"]\n",
    "    return  teste_pcr\n"
   ]
  },
  {
   "cell_type": "code",
   "execution_count": 7,
   "metadata": {
    "execution": {
     "iopub.execute_input": "2022-05-15T21:15:05.173749Z",
     "iopub.status.busy": "2022-05-15T21:15:05.172768Z",
     "iopub.status.idle": "2022-05-15T21:15:05.185091Z",
     "shell.execute_reply": "2022-05-15T21:15:05.185680Z"
    },
    "papermill": {
     "duration": 0.036101,
     "end_time": "2022-05-15T21:15:05.185869",
     "exception": false,
     "start_time": "2022-05-15T21:15:05.149768",
     "status": "completed"
    },
    "tags": []
   },
   "outputs": [],
   "source": [
    "def convert_to_binary(dt):\n",
    "    dt=dt.replace(to_replace =[1],value =0) \n",
    "    dt=dt.replace(to_replace =[2],value =1)\n",
    "    dt=dt.replace(to_replace =['F'],value=0) \n",
    "    dt=dt.replace(to_replace =['M'],value=1)\n",
    "    dt=dt.replace(to_replace =[10],value=0)\n",
    "    dt=dt.replace(to_replace =[11],value=0)\n",
    "    dt=dt.replace(to_replace =[12],value=0)\n",
    "    \n",
    "    \n",
    "    dt=dt.replace(to_replace =[3],value=0)\n",
    "    dt=dt.replace(to_replace =[4],value=0)\n",
    "    \n",
    "    dt=dt.replace(to_replace =[5],value=1)\n",
    "    dt=dt.replace(to_replace =[8],value=1)\n",
    "    \n",
    "    #drop none values\n",
    "    dt=dt.replace(to_replace =[\"n\"],value =None)\n",
    "    dt=dt.dropna()\n",
    "    return dt\n"
   ]
  },
  {
   "cell_type": "code",
   "execution_count": 8,
   "metadata": {
    "execution": {
     "iopub.execute_input": "2022-05-15T21:15:05.228225Z",
     "iopub.status.busy": "2022-05-15T21:15:05.227200Z",
     "iopub.status.idle": "2022-05-15T21:15:05.232075Z",
     "shell.execute_reply": "2022-05-15T21:15:05.232853Z"
    },
    "papermill": {
     "duration": 0.026794,
     "end_time": "2022-05-15T21:15:05.233054",
     "exception": false,
     "start_time": "2022-05-15T21:15:05.206260",
     "status": "completed"
    },
    "tags": []
   },
   "outputs": [],
   "source": [
    "def select_classif(data):\n",
    "    return data[(data['tp_classificacao_final']!=8)]"
   ]
  },
  {
   "cell_type": "code",
   "execution_count": 9,
   "metadata": {
    "execution": {
     "iopub.execute_input": "2022-05-15T21:15:05.273684Z",
     "iopub.status.busy": "2022-05-15T21:15:05.272652Z",
     "iopub.status.idle": "2022-05-15T21:15:09.124074Z",
     "shell.execute_reply": "2022-05-15T21:15:09.123456Z"
    },
    "papermill": {
     "duration": 3.872685,
     "end_time": "2022-05-15T21:15:09.124265",
     "exception": false,
     "start_time": "2022-05-15T21:15:05.251580",
     "status": "completed"
    },
    "tags": []
   },
   "outputs": [
    {
     "name": "stderr",
     "output_type": "stream",
     "text": [
      "/opt/conda/lib/python3.7/site-packages/ipykernel_launcher.py:3: DeprecationWarning: 'U' mode is deprecated\n",
      "  This is separate from the ipykernel package so we can avoid doing imports until\n",
      "/opt/conda/lib/python3.7/site-packages/IPython/core/interactiveshell.py:3254: DtypeWarning: Columns (30,52,96,112) have mixed types.Specify dtype option on import or set low_memory=False.\n",
      "  if (await self.run_code(code, result,  async_=asy)):\n"
     ]
    },
    {
     "name": "stdout",
     "output_type": "stream",
     "text": [
      "DATA SIZE 34533\n"
     ]
    },
    {
     "name": "stderr",
     "output_type": "stream",
     "text": [
      "/opt/conda/lib/python3.7/site-packages/IPython/core/interactiveshell.py:3254: DtypeWarning: Columns (54,112) have mixed types.Specify dtype option on import or set low_memory=False.\n",
      "  if (await self.run_code(code, result,  async_=asy)):\n"
     ]
    },
    {
     "name": "stdout",
     "output_type": "stream",
     "text": [
      "DATA SIZE 18595\n",
      "DATA SIZE 2442\n"
     ]
    },
    {
     "name": "stderr",
     "output_type": "stream",
     "text": [
      "/opt/conda/lib/python3.7/site-packages/ipykernel_launcher.py:3: DeprecationWarning: 'U' mode is deprecated\n",
      "  This is separate from the ipykernel package so we can avoid doing imports until\n",
      "/opt/conda/lib/python3.7/site-packages/ipykernel_launcher.py:3: DeprecationWarning: 'U' mode is deprecated\n",
      "  This is separate from the ipykernel package so we can avoid doing imports until\n"
     ]
    },
    {
     "name": "stdout",
     "output_type": "stream",
     "text": [
      "DATA SIZE 2662\n",
      "DATA SIZE 7286\n",
      "DATA SIZE 1000\n"
     ]
    },
    {
     "name": "stderr",
     "output_type": "stream",
     "text": [
      "/opt/conda/lib/python3.7/site-packages/ipykernel_launcher.py:3: DeprecationWarning: 'U' mode is deprecated\n",
      "  This is separate from the ipykernel package so we can avoid doing imports until\n"
     ]
    }
   ],
   "source": [
    "#2015\n",
    "data_2015=read_file('/kaggle/input/dengue2015/dengue2015.csv','dengue2015.csv')\n",
    "data_2015=select_patients_with_symp(data_2015)\n",
    "data_2015=select_classif(data_2015)\n",
    "#teste_rapido_2015=select_antibody_test(data_2015)\n",
    "#teste_pcr_2015=select_pcr_test(data_2015)\n",
    "#repeted_2015=teste_rapido_2015[teste_rapido_2015.index.isin(teste_pcr_2015.index)]\n",
    "#teste_rapido_2015=teste_rapido_2015.drop(repeted_2015.index)\n",
    "\n",
    "#2016\n",
    "data_2016=read_file('/kaggle/input/dengue2016/dengue2016.csv','dengue2016.csv')\n",
    "data_2016=select_patients_with_symp(data_2016)\n",
    "data_2016=select_classif(data_2016)\n",
    "#teste_rapido_2016=select_antibody_test(data_2016)\n",
    "#teste_pcr_2016=select_pcr_test(data_2016)\n",
    "#repeted_2016=teste_rapido_2016[teste_rapido_2016.index.isin(teste_pcr_2016.index)]\n",
    "#teste_rapido_2016=teste_rapido_2016.drop(repeted_2016.index)\n",
    "\n",
    "#2017\n",
    "data_2017=read_file('/kaggle/input/dengue2017/dengue2017.csv','dengue2017.csv')\n",
    "data_2017=select_patients_with_symp(data_2017)\n",
    "data_2017=select_classif(data_2017)\n",
    "#teste_rapido_2017=select_antibody_test(data_2017)\n",
    "#teste_pcr_2017=select_pcr_test(data_2017)\n",
    "#repeted_2017=teste_rapido_2017[teste_rapido_2017.index.isin(teste_pcr_2017.index)]\n",
    "#teste_rapido_2017=teste_rapido_2017.drop(repeted_2017.index)\n",
    "\n",
    "#2018\n",
    "data_2018=read_file('/kaggle/input/dengue2018/dengue2018.csv','dengue2018.csv')\n",
    "data_2018=select_patients_with_symp(data_2018)\n",
    "data_2018=select_classif(data_2018)\n",
    "#teste_rapido_2018=select_antibody_test(data_2018)\n",
    "#teste_pcr_2018=select_pcr_test(data_2018)\n",
    "#repeted_2020=teste_rapido_2020[teste_rapido_2020.index.isin(teste_pcr_2020.index)]\n",
    "#teste_rapido_2020=teste_rapido_2020.drop(repeted_2020.index)\n",
    "\n",
    "#2019\n",
    "data_2019=read_file('/kaggle/input/dengue2019/dengue2019.csv','dengue2019.csv')\n",
    "data_2019=select_patients_with_symp(data_2019)\n",
    "data_2019=select_classif(data_2019)\n",
    "#teste_rapido_2019=select_antibody_test(data_2019)\n",
    "#teste_pcr_2019=select_pcr_test(data_2019)\n",
    "#repeted_2019=teste_rapido_2019[teste_rapido_2019.index.isin(teste_pcr_2019.index)]\n",
    "#teste_rapido_2019=teste_rapido_2019.drop(repeted_2019.index)\n",
    "\n",
    "#2020\n",
    "data_2020=read_file('/kaggle/input/dengue2020/dengue2020.csv','dengue2020.csv')\n",
    "data_2020=select_patients_with_symp(data_2020)\n",
    "data_2020=select_classif(data_2020)\n",
    "#teste_rapido_2020=select_antibody_test(data_2020)\n",
    "#teste_pcr_2020=select_pcr_test(data_2020)\n",
    "#repeted_2020=teste_rapido_2020[teste_rapido_2020.index.isin(teste_pcr_2020.index)]\n",
    "#teste_rapido_2020=teste_rapido_2020.drop(repeted_2020.index)\n",
    "\n",
    "#concat\n",
    "teste=pd.concat([data_2019,data_2020]).reset_index()\n",
    "del teste['index']\n",
    "#teste_pcr=pd.concat([teste_pcr_2015,teste_pcr_2016,teste_pcr_2017,teste_pcr_2018,teste_pcr_2019,teste_pcr_2020]).reset_index()\n",
    "#del teste_pcr['index']\n",
    "teste=convert_to_binary(teste)\n",
    "#teste_rapido=convert_to_binary(teste_rapido)\n"
   ]
  },
  {
   "cell_type": "code",
   "execution_count": 10,
   "metadata": {
    "execution": {
     "iopub.execute_input": "2022-05-15T21:15:09.175518Z",
     "iopub.status.busy": "2022-05-15T21:15:09.174726Z",
     "iopub.status.idle": "2022-05-15T21:15:09.179865Z",
     "shell.execute_reply": "2022-05-15T21:15:09.179144Z"
    },
    "papermill": {
     "duration": 0.033969,
     "end_time": "2022-05-15T21:15:09.180002",
     "exception": false,
     "start_time": "2022-05-15T21:15:09.146033",
     "status": "completed"
    },
    "tags": []
   },
   "outputs": [
    {
     "data": {
      "text/plain": [
       "66518"
      ]
     },
     "execution_count": 10,
     "metadata": {},
     "output_type": "execute_result"
    }
   ],
   "source": [
    " 34533+18595+2442+ 2662+7286+1000"
   ]
  },
  {
   "cell_type": "code",
   "execution_count": 11,
   "metadata": {
    "execution": {
     "iopub.execute_input": "2022-05-15T21:15:09.232585Z",
     "iopub.status.busy": "2022-05-15T21:15:09.231720Z",
     "iopub.status.idle": "2022-05-15T21:15:09.235863Z",
     "shell.execute_reply": "2022-05-15T21:15:09.235209Z"
    },
    "papermill": {
     "duration": 0.033552,
     "end_time": "2022-05-15T21:15:09.235994",
     "exception": false,
     "start_time": "2022-05-15T21:15:09.202442",
     "status": "completed"
    },
    "tags": []
   },
   "outputs": [],
   "source": [
    "teste=teste.rename(columns={\"tp_sexo\":'Gender',\"febre\":\"Symptom- Fever\",\"mialgia\":\"Symptom- Myalgia\",\n",
    "                      \"cefaleia\":\"Symptom- Headache\",\"exantema\":\"Symptom- exanthema\",\n",
    "                      \"vomito\":\"Symptom- Vomit\",\"nausea\":\"Symptom- Nausea\",\"dor_costas\":\"Symptom- backache\",\n",
    "                      \"conjutivite\":\"Symptom- conjunctivitis\",\"artrite\":\"Symptom- arthritis\",\n",
    "                      \"artralgia\":\"Symptom- arthralgia\",\"petequia_n\":\"Symptom- petechia\",\n",
    "                      \"leucopenia\":\"Symptom- leucopenia\",\"dor_retro\":\"Symptom- retro_pain\"})"
   ]
  },
  {
   "cell_type": "code",
   "execution_count": 12,
   "metadata": {
    "execution": {
     "iopub.execute_input": "2022-05-15T21:15:09.286806Z",
     "iopub.status.busy": "2022-05-15T21:15:09.286101Z",
     "iopub.status.idle": "2022-05-15T21:15:09.290775Z",
     "shell.execute_reply": "2022-05-15T21:15:09.289992Z"
    },
    "papermill": {
     "duration": 0.032253,
     "end_time": "2022-05-15T21:15:09.290924",
     "exception": false,
     "start_time": "2022-05-15T21:15:09.258671",
     "status": "completed"
    },
    "tags": []
   },
   "outputs": [
    {
     "data": {
      "text/plain": [
       "7422"
      ]
     },
     "execution_count": 12,
     "metadata": {},
     "output_type": "execute_result"
    }
   ],
   "source": [
    "len(teste)"
   ]
  },
  {
   "cell_type": "code",
   "execution_count": 13,
   "metadata": {
    "execution": {
     "iopub.execute_input": "2022-05-15T21:15:09.346473Z",
     "iopub.status.busy": "2022-05-15T21:15:09.345841Z",
     "iopub.status.idle": "2022-05-15T21:15:09.352247Z",
     "shell.execute_reply": "2022-05-15T21:15:09.352726Z"
    },
    "papermill": {
     "duration": 0.037062,
     "end_time": "2022-05-15T21:15:09.352885",
     "exception": false,
     "start_time": "2022-05-15T21:15:09.315823",
     "status": "completed"
    },
    "tags": []
   },
   "outputs": [],
   "source": [
    "teste_fem=teste[teste['Gender']==0]\n",
    "teste_ma=teste[teste['Gender']==1]"
   ]
  },
  {
   "cell_type": "code",
   "execution_count": 14,
   "metadata": {
    "execution": {
     "iopub.execute_input": "2022-05-15T21:15:09.409571Z",
     "iopub.status.busy": "2022-05-15T21:15:09.408857Z",
     "iopub.status.idle": "2022-05-15T21:15:09.431314Z",
     "shell.execute_reply": "2022-05-15T21:15:09.430633Z"
    },
    "papermill": {
     "duration": 0.05546,
     "end_time": "2022-05-15T21:15:09.431429",
     "exception": false,
     "start_time": "2022-05-15T21:15:09.375969",
     "status": "completed"
    },
    "tags": []
   },
   "outputs": [],
   "source": [
    "def part_dataset(dt):\n",
    "    \n",
    "    #part dataset with only class) marked as negative\n",
    "    neg=dt[dt[\"tp_classificacao_final\"]==1]\n",
    "    \n",
    "    #part dataset with only class marked as positive\n",
    "    pos=dt[dt[\"tp_classificacao_final\"]==0]\n",
    "    del neg[\"tp_classificacao_final\"]\n",
    "    del pos[\"tp_classificacao_final\"]\n",
    "    \n",
    "    #part dataset with only unique values fom dataset pos\n",
    "    pos_uniq=pos.drop_duplicates(subset=['Gender', 'Symptom- Fever', 'Symptom- Myalgia',\n",
    "                                         'Symptom- Headache','Symptom- exanthema', 'Symptom- Vomit',\n",
    "                                         'Symptom- Nausea','Symptom- backache', 'Symptom- conjunctivitis',\n",
    "                                         'Symptom- arthritis','Symptom- arthralgia', 'Symptom- petechia',\n",
    "                                         'Symptom- leucopenia','Symptom- retro_pain'])\n",
    "    \n",
    "    neg_array=neg.iloc[:,:].values\n",
    "    pos_uniq_array=pos_uniq.iloc[:,:].values\n",
    "    pos_dupli_array=pos.iloc[:,:].values\n",
    "    \n",
    "    return neg,pos,neg_array, pos_uniq_array,pos_dupli_array\n",
    "\n",
    "neg_fem,pos_fem,neg_array_fem,pos_uniq_array_fem,pos_dupli_array_fem=part_dataset(teste_fem)  \n",
    "neg_ma,pos_ma,neg_array_ma,pos_uniq_array_ma,pos_dupli_array_ma=part_dataset(teste_ma)"
   ]
  },
  {
   "cell_type": "code",
   "execution_count": 15,
   "metadata": {
    "execution": {
     "iopub.execute_input": "2022-05-15T21:15:09.512563Z",
     "iopub.status.busy": "2022-05-15T21:15:09.490879Z",
     "iopub.status.idle": "2022-05-15T21:15:34.980899Z",
     "shell.execute_reply": "2022-05-15T21:15:34.980206Z"
    },
    "papermill": {
     "duration": 25.526636,
     "end_time": "2022-05-15T21:15:34.981017",
     "exception": false,
     "start_time": "2022-05-15T21:15:09.454381",
     "status": "completed"
    },
    "tags": []
   },
   "outputs": [],
   "source": [
    "def resolve_class_conflict(d_ori,pos_uniq_array,l_comp):\n",
    "    lpp=dict()\n",
    "    dict_count=dict()\n",
    "    #run all the unique values from positive dataset\n",
    "    for k in range(len(pos_uniq_array)):\n",
    "        p=0\n",
    "        lista_index=[]\n",
    "        #run all the values to compare if is equal to the unique values from positive dataset\n",
    "        for i in range(len(l_comp)):\n",
    "\n",
    "            comparison=pos_uniq_array[k:k+1,:]==l_comp[i:i+1,:]\n",
    "             #if the values are equal\n",
    "            if(comparison.all()):\n",
    "                #count how many equal values exist!\n",
    "                p+=1\n",
    "                #add l_comp value index in lista_index!\n",
    "                lista_index.append(d_ori.iloc[i:i+1,:].index[0])\n",
    "        #hold the number of same values\n",
    "        dict_count[k]=p\n",
    "        #hold all the lists of index\n",
    "        lpp[k]=lista_index\n",
    "    return dict_count,lpp\n",
    "#fem\n",
    "dict_count_fem,lpp_fem=resolve_class_conflict(pos_fem,pos_uniq_array_fem,pos_dupli_array_fem)\n",
    "dict_count_neg_fem,lpn_fem=resolve_class_conflict(neg_fem,pos_uniq_array_fem, neg_array_fem)\n",
    "#mal\n",
    "dict_count_ma,lpp_ma=resolve_class_conflict(pos_ma,pos_uniq_array_ma,pos_dupli_array_ma)\n",
    "dict_count_neg_ma,lpn_ma=resolve_class_conflict(neg_ma,pos_uniq_array_ma, neg_array_ma)\n"
   ]
  },
  {
   "cell_type": "code",
   "execution_count": 16,
   "metadata": {
    "execution": {
     "iopub.execute_input": "2022-05-15T21:15:35.031215Z",
     "iopub.status.busy": "2022-05-15T21:15:35.030526Z",
     "iopub.status.idle": "2022-05-15T21:15:35.049170Z",
     "shell.execute_reply": "2022-05-15T21:15:35.048505Z"
    },
    "papermill": {
     "duration": 0.044851,
     "end_time": "2022-05-15T21:15:35.049288",
     "exception": false,
     "start_time": "2022-05-15T21:15:35.004437",
     "status": "completed"
    },
    "tags": []
   },
   "outputs": [],
   "source": [
    "def get_conflict_values_keys(dict_count_neg,dict_count):\n",
    "    dnp=pd.DataFrame(index=dict_count_neg.keys())\n",
    "    dnp['neg']=dict_count_neg.values()\n",
    "    dnp['pos']=dict_count.values()\n",
    "    dnp=dnp[(dnp['neg']>0) & (dnp['pos']>0)]\n",
    "    #get just the keys which the total rows number of neg values is less than pos values\n",
    "    neg_smaller=dnp[dnp['neg'] < dnp['pos']]\n",
    "    #get just the keys which the total rows number of pos values is less than neg values\n",
    "    pos_smaller=dnp[dnp['neg'] > dnp['pos']]\n",
    "    #get just the keys which the total rows number of pos values is equal to neg values\n",
    "    pos_neg_equal=dnp[dnp['neg'] == dnp['pos']]\n",
    "    return neg_smaller, pos_smaller, pos_neg_equal\n",
    "#fem\n",
    "neg_smaller_fem,pos_smaller_fem, pos_neg_equal_fem=get_conflict_values_keys(dict_count_neg_fem,dict_count_fem)\n",
    "#mal\n",
    "neg_smaller_ma,pos_smaller_ma, pos_neg_equal_ma=get_conflict_values_keys(dict_count_neg_ma,dict_count_ma)\n"
   ]
  },
  {
   "cell_type": "code",
   "execution_count": 17,
   "metadata": {
    "execution": {
     "iopub.execute_input": "2022-05-15T21:15:35.106059Z",
     "iopub.status.busy": "2022-05-15T21:15:35.105413Z",
     "iopub.status.idle": "2022-05-15T21:15:35.111403Z",
     "shell.execute_reply": "2022-05-15T21:15:35.110918Z"
    },
    "papermill": {
     "duration": 0.038872,
     "end_time": "2022-05-15T21:15:35.111518",
     "exception": false,
     "start_time": "2022-05-15T21:15:35.072646",
     "status": "completed"
    },
    "tags": []
   },
   "outputs": [],
   "source": [
    "def get_index(data,l_data,l_index):\n",
    "    \n",
    "    for x in data.index:\n",
    "        for k in l_data[x]:\n",
    "            l_index.append(k)\n",
    "    \n",
    "       \n",
    "    return l_index\n",
    "#fem\n",
    "l_index_fem=[]\n",
    "l_index_fem=get_index(neg_smaller_fem,lpn_fem,l_index_fem)\n",
    "l_index_fem=get_index(pos_smaller_fem,lpp_fem,l_index_fem)\n",
    "l_index_fem=get_index(pos_neg_equal_fem,lpn_fem,l_index_fem)\n",
    "l_index_fem=get_index(pos_neg_equal_fem,lpp_fem,l_index_fem)\n",
    "teste_fem=teste_fem.drop(l_index_fem)\n",
    "\n",
    "#mal\n",
    "l_index_ma=[]\n",
    "l_index_ma=get_index(neg_smaller_ma,lpn_ma,l_index_ma)\n",
    "l_index_ma=get_index(pos_smaller_ma,lpp_ma,l_index_ma)\n",
    "l_index_ma=get_index(pos_neg_equal_ma,lpn_ma,l_index_ma)\n",
    "l_index_ma=get_index(pos_neg_equal_ma,lpp_ma,l_index_ma)\n",
    "teste_ma=teste_ma.drop(l_index_ma)"
   ]
  },
  {
   "cell_type": "code",
   "execution_count": 18,
   "metadata": {
    "execution": {
     "iopub.execute_input": "2022-05-15T21:15:35.167148Z",
     "iopub.status.busy": "2022-05-15T21:15:35.165829Z",
     "iopub.status.idle": "2022-05-15T21:15:35.262759Z",
     "shell.execute_reply": "2022-05-15T21:15:35.262064Z"
    },
    "papermill": {
     "duration": 0.12827,
     "end_time": "2022-05-15T21:15:35.262883",
     "exception": false,
     "start_time": "2022-05-15T21:15:35.134613",
     "status": "completed"
    },
    "tags": []
   },
   "outputs": [],
   "source": [
    "def match_classes(dt_covid):\n",
    "    y=dt_covid[\"tp_classificacao_final\"]\n",
    "\n",
    "    x=dt_covid.iloc[:,:14]\n",
    "    nr = NearMiss()\n",
    "    x,y=nr.fit_sample(x,y)\n",
    "    return x,y\n",
    "teste_fem_unb = teste_fem.copy()\n",
    "teste_ma_unb = teste_ma.copy()\n",
    "x_fem,y_fem=match_classes(teste_fem)\n",
    "x_fem['Class']=y_fem\n",
    "teste_fem=x_fem.copy()\n",
    "#mal\n",
    "x_ma,y_ma=match_classes(teste_ma)\n",
    "x_ma['Class']=y_ma\n",
    "teste_ma=x_ma.copy()\n"
   ]
  },
  {
   "cell_type": "code",
   "execution_count": 19,
   "metadata": {
    "execution": {
     "iopub.execute_input": "2022-05-15T21:15:35.315736Z",
     "iopub.status.busy": "2022-05-15T21:15:35.314640Z",
     "iopub.status.idle": "2022-05-15T21:15:35.328623Z",
     "shell.execute_reply": "2022-05-15T21:15:35.327583Z"
    },
    "papermill": {
     "duration": 0.042836,
     "end_time": "2022-05-15T21:15:35.328817",
     "exception": false,
     "start_time": "2022-05-15T21:15:35.285981",
     "status": "completed"
    },
    "tags": []
   },
   "outputs": [
    {
     "name": "stdout",
     "output_type": "stream",
     "text": [
      "<class 'pandas.core.frame.DataFrame'>\n",
      "RangeIndex: 1340 entries, 0 to 1339\n",
      "Data columns (total 15 columns):\n",
      " #   Column                   Non-Null Count  Dtype  \n",
      "---  ------                   --------------  -----  \n",
      " 0   Gender                   1340 non-null   object \n",
      " 1   Symptom- Fever           1340 non-null   float64\n",
      " 2   Symptom- Myalgia         1340 non-null   float64\n",
      " 3   Symptom- Headache        1340 non-null   float64\n",
      " 4   Symptom- exanthema       1340 non-null   float64\n",
      " 5   Symptom- Vomit           1340 non-null   float64\n",
      " 6   Symptom- Nausea          1340 non-null   float64\n",
      " 7   Symptom- backache        1340 non-null   float64\n",
      " 8   Symptom- conjunctivitis  1340 non-null   float64\n",
      " 9   Symptom- arthritis       1340 non-null   float64\n",
      " 10  Symptom- arthralgia      1340 non-null   float64\n",
      " 11  Symptom- petechia        1340 non-null   float64\n",
      " 12  Symptom- leucopenia      1340 non-null   float64\n",
      " 13  Symptom- retro_pain      1340 non-null   float64\n",
      " 14  Class                    1340 non-null   float64\n",
      "dtypes: float64(14), object(1)\n",
      "memory usage: 157.2+ KB\n"
     ]
    }
   ],
   "source": [
    "teste_ma.info()"
   ]
  },
  {
   "cell_type": "code",
   "execution_count": 20,
   "metadata": {
    "execution": {
     "iopub.execute_input": "2022-05-15T21:15:35.389258Z",
     "iopub.status.busy": "2022-05-15T21:15:35.388565Z",
     "iopub.status.idle": "2022-05-15T21:15:35.393862Z",
     "shell.execute_reply": "2022-05-15T21:15:35.393073Z"
    },
    "papermill": {
     "duration": 0.040377,
     "end_time": "2022-05-15T21:15:35.394017",
     "exception": false,
     "start_time": "2022-05-15T21:15:35.353640",
     "status": "completed"
    },
    "tags": []
   },
   "outputs": [
    {
     "name": "stdout",
     "output_type": "stream",
     "text": [
      "<class 'pandas.core.frame.DataFrame'>\n",
      "RangeIndex: 1384 entries, 0 to 1383\n",
      "Data columns (total 15 columns):\n",
      " #   Column                   Non-Null Count  Dtype  \n",
      "---  ------                   --------------  -----  \n",
      " 0   Gender                   1384 non-null   object \n",
      " 1   Symptom- Fever           1384 non-null   float64\n",
      " 2   Symptom- Myalgia         1384 non-null   float64\n",
      " 3   Symptom- Headache        1384 non-null   float64\n",
      " 4   Symptom- exanthema       1384 non-null   float64\n",
      " 5   Symptom- Vomit           1384 non-null   float64\n",
      " 6   Symptom- Nausea          1384 non-null   float64\n",
      " 7   Symptom- backache        1384 non-null   float64\n",
      " 8   Symptom- conjunctivitis  1384 non-null   float64\n",
      " 9   Symptom- arthritis       1384 non-null   float64\n",
      " 10  Symptom- arthralgia      1384 non-null   float64\n",
      " 11  Symptom- petechia        1384 non-null   float64\n",
      " 12  Symptom- leucopenia      1384 non-null   float64\n",
      " 13  Symptom- retro_pain      1384 non-null   float64\n",
      " 14  Class                    1384 non-null   float64\n",
      "dtypes: float64(14), object(1)\n",
      "memory usage: 162.3+ KB\n"
     ]
    }
   ],
   "source": [
    "teste_fem.info()"
   ]
  },
  {
   "cell_type": "code",
   "execution_count": 21,
   "metadata": {
    "execution": {
     "iopub.execute_input": "2022-05-15T21:15:35.448320Z",
     "iopub.status.busy": "2022-05-15T21:15:35.447675Z",
     "iopub.status.idle": "2022-05-15T21:15:35.462267Z",
     "shell.execute_reply": "2022-05-15T21:15:35.463398Z"
    },
    "papermill": {
     "duration": 0.043473,
     "end_time": "2022-05-15T21:15:35.463599",
     "exception": false,
     "start_time": "2022-05-15T21:15:35.420126",
     "status": "completed"
    },
    "tags": []
   },
   "outputs": [
    {
     "name": "stdout",
     "output_type": "stream",
     "text": [
      "<class 'pandas.core.frame.DataFrame'>\n",
      "RangeIndex: 2724 entries, 0 to 2723\n",
      "Data columns (total 15 columns):\n",
      " #   Column                   Non-Null Count  Dtype  \n",
      "---  ------                   --------------  -----  \n",
      " 0   Gender                   2724 non-null   object \n",
      " 1   Symptom- Fever           2724 non-null   float64\n",
      " 2   Symptom- Myalgia         2724 non-null   float64\n",
      " 3   Symptom- Headache        2724 non-null   float64\n",
      " 4   Symptom- exanthema       2724 non-null   float64\n",
      " 5   Symptom- Vomit           2724 non-null   float64\n",
      " 6   Symptom- Nausea          2724 non-null   float64\n",
      " 7   Symptom- backache        2724 non-null   float64\n",
      " 8   Symptom- conjunctivitis  2724 non-null   float64\n",
      " 9   Symptom- arthritis       2724 non-null   float64\n",
      " 10  Symptom- arthralgia      2724 non-null   float64\n",
      " 11  Symptom- petechia        2724 non-null   float64\n",
      " 12  Symptom- leucopenia      2724 non-null   float64\n",
      " 13  Symptom- retro_pain      2724 non-null   float64\n",
      " 14  Class                    2724 non-null   float64\n",
      "dtypes: float64(14), object(1)\n",
      "memory usage: 319.3+ KB\n"
     ]
    }
   ],
   "source": [
    "both_dengue_data=pd.concat([teste_fem,teste_ma]).reset_index()\n",
    "del both_dengue_data['index']\n",
    "both_dengue_data.info()"
   ]
  },
  {
   "cell_type": "code",
   "execution_count": 22,
   "metadata": {
    "execution": {
     "iopub.execute_input": "2022-05-15T21:15:35.517344Z",
     "iopub.status.busy": "2022-05-15T21:15:35.516662Z",
     "iopub.status.idle": "2022-05-15T21:15:35.528484Z",
     "shell.execute_reply": "2022-05-15T21:15:35.529473Z"
    },
    "papermill": {
     "duration": 0.040322,
     "end_time": "2022-05-15T21:15:35.529679",
     "exception": false,
     "start_time": "2022-05-15T21:15:35.489357",
     "status": "completed"
    },
    "tags": []
   },
   "outputs": [
    {
     "name": "stdout",
     "output_type": "stream",
     "text": [
      "<class 'pandas.core.frame.DataFrame'>\n",
      "Int64Index: 2360 entries, 4 to 7421\n",
      "Data columns (total 15 columns):\n",
      " #   Column                   Non-Null Count  Dtype  \n",
      "---  ------                   --------------  -----  \n",
      " 0   Gender                   2360 non-null   object \n",
      " 1   Symptom- Fever           2360 non-null   float64\n",
      " 2   Symptom- Myalgia         2360 non-null   float64\n",
      " 3   Symptom- Headache        2360 non-null   float64\n",
      " 4   Symptom- exanthema       2360 non-null   float64\n",
      " 5   Symptom- Vomit           2360 non-null   float64\n",
      " 6   Symptom- Nausea          2360 non-null   float64\n",
      " 7   Symptom- backache        2360 non-null   float64\n",
      " 8   Symptom- conjunctivitis  2360 non-null   float64\n",
      " 9   Symptom- arthritis       2360 non-null   float64\n",
      " 10  Symptom- arthralgia      2360 non-null   float64\n",
      " 11  Symptom- petechia        2360 non-null   float64\n",
      " 12  Symptom- leucopenia      2360 non-null   float64\n",
      " 13  Symptom- retro_pain      2360 non-null   float64\n",
      " 14  tp_classificacao_final   2360 non-null   float64\n",
      "dtypes: float64(14), object(1)\n",
      "memory usage: 295.0+ KB\n"
     ]
    }
   ],
   "source": [
    "teste_ma_unb.info()"
   ]
  },
  {
   "cell_type": "code",
   "execution_count": 23,
   "metadata": {
    "execution": {
     "iopub.execute_input": "2022-05-15T21:15:35.586013Z",
     "iopub.status.busy": "2022-05-15T21:15:35.585037Z",
     "iopub.status.idle": "2022-05-15T21:15:35.600248Z",
     "shell.execute_reply": "2022-05-15T21:15:35.599184Z"
    },
    "papermill": {
     "duration": 0.043663,
     "end_time": "2022-05-15T21:15:35.600481",
     "exception": false,
     "start_time": "2022-05-15T21:15:35.556818",
     "status": "completed"
    },
    "tags": []
   },
   "outputs": [
    {
     "name": "stdout",
     "output_type": "stream",
     "text": [
      "<class 'pandas.core.frame.DataFrame'>\n",
      "Int64Index: 2678 entries, 0 to 7420\n",
      "Data columns (total 15 columns):\n",
      " #   Column                   Non-Null Count  Dtype  \n",
      "---  ------                   --------------  -----  \n",
      " 0   Gender                   2678 non-null   object \n",
      " 1   Symptom- Fever           2678 non-null   float64\n",
      " 2   Symptom- Myalgia         2678 non-null   float64\n",
      " 3   Symptom- Headache        2678 non-null   float64\n",
      " 4   Symptom- exanthema       2678 non-null   float64\n",
      " 5   Symptom- Vomit           2678 non-null   float64\n",
      " 6   Symptom- Nausea          2678 non-null   float64\n",
      " 7   Symptom- backache        2678 non-null   float64\n",
      " 8   Symptom- conjunctivitis  2678 non-null   float64\n",
      " 9   Symptom- arthritis       2678 non-null   float64\n",
      " 10  Symptom- arthralgia      2678 non-null   float64\n",
      " 11  Symptom- petechia        2678 non-null   float64\n",
      " 12  Symptom- leucopenia      2678 non-null   float64\n",
      " 13  Symptom- retro_pain      2678 non-null   float64\n",
      " 14  tp_classificacao_final   2678 non-null   float64\n",
      "dtypes: float64(14), object(1)\n",
      "memory usage: 334.8+ KB\n"
     ]
    }
   ],
   "source": [
    "teste_fem_unb.info()"
   ]
  },
  {
   "cell_type": "code",
   "execution_count": 24,
   "metadata": {
    "execution": {
     "iopub.execute_input": "2022-05-15T21:15:35.661851Z",
     "iopub.status.busy": "2022-05-15T21:15:35.660772Z",
     "iopub.status.idle": "2022-05-15T21:15:35.680235Z",
     "shell.execute_reply": "2022-05-15T21:15:35.681321Z"
    },
    "papermill": {
     "duration": 0.054159,
     "end_time": "2022-05-15T21:15:35.681532",
     "exception": false,
     "start_time": "2022-05-15T21:15:35.627373",
     "status": "completed"
    },
    "tags": []
   },
   "outputs": [
    {
     "name": "stdout",
     "output_type": "stream",
     "text": [
      "<class 'pandas.core.frame.DataFrame'>\n",
      "RangeIndex: 5038 entries, 0 to 5037\n",
      "Data columns (total 15 columns):\n",
      " #   Column                   Non-Null Count  Dtype  \n",
      "---  ------                   --------------  -----  \n",
      " 0   Gender                   5038 non-null   object \n",
      " 1   Symptom- Fever           5038 non-null   float64\n",
      " 2   Symptom- Myalgia         5038 non-null   float64\n",
      " 3   Symptom- Headache        5038 non-null   float64\n",
      " 4   Symptom- exanthema       5038 non-null   float64\n",
      " 5   Symptom- Vomit           5038 non-null   float64\n",
      " 6   Symptom- Nausea          5038 non-null   float64\n",
      " 7   Symptom- backache        5038 non-null   float64\n",
      " 8   Symptom- conjunctivitis  5038 non-null   float64\n",
      " 9   Symptom- arthritis       5038 non-null   float64\n",
      " 10  Symptom- arthralgia      5038 non-null   float64\n",
      " 11  Symptom- petechia        5038 non-null   float64\n",
      " 12  Symptom- leucopenia      5038 non-null   float64\n",
      " 13  Symptom- retro_pain      5038 non-null   float64\n",
      " 14  tp_classificacao_final   5038 non-null   float64\n",
      "dtypes: float64(14), object(1)\n",
      "memory usage: 590.5+ KB\n"
     ]
    }
   ],
   "source": [
    "both_dengue_data_unb =pd.concat([teste_fem_unb,teste_ma_unb]).reset_index()\n",
    "del both_dengue_data_unb['index']\n",
    "both_dengue_data_unb.info()"
   ]
  },
  {
   "cell_type": "code",
   "execution_count": 25,
   "metadata": {
    "execution": {
     "iopub.execute_input": "2022-05-15T21:15:35.738575Z",
     "iopub.status.busy": "2022-05-15T21:15:35.737960Z",
     "iopub.status.idle": "2022-05-15T21:15:36.405965Z",
     "shell.execute_reply": "2022-05-15T21:15:36.404727Z"
    },
    "papermill": {
     "duration": 0.697815,
     "end_time": "2022-05-15T21:15:36.406107",
     "exception": false,
     "start_time": "2022-05-15T21:15:35.708292",
     "status": "completed"
    },
    "tags": []
   },
   "outputs": [],
   "source": [
    "both_dengue_data.to_csv('both_dengue_data.csv',index=False)\n",
    "teste_fem.to_csv('fem_dengue_data.csv',index=False)\n",
    "teste_ma.to_csv('ma_dengue_data.csv',index=False)\n",
    "\n",
    "both_dengue_data_unb.to_csv('both_dengue_data_unb.csv',index=False)\n",
    "teste_fem_unb.to_csv('fem_dengue_data_unb.csv',index=False)\n",
    "teste_ma_unb.to_csv('ma_dengue_data_unb.csv',index=False)"
   ]
  }
 ],
 "metadata": {
  "kernelspec": {
   "display_name": "Python 3",
   "language": "python",
   "name": "python3"
  },
  "language_info": {
   "codemirror_mode": {
    "name": "ipython",
    "version": 3
   },
   "file_extension": ".py",
   "mimetype": "text/x-python",
   "name": "python",
   "nbconvert_exporter": "python",
   "pygments_lexer": "ipython3",
   "version": "3.7.6"
  },
  "papermill": {
   "duration": 38.094437,
   "end_time": "2022-05-15T21:15:36.540760",
   "environment_variables": {},
   "exception": null,
   "input_path": "__notebook__.ipynb",
   "output_path": "__notebook__.ipynb",
   "parameters": {},
   "start_time": "2022-05-15T21:14:58.446323",
   "version": "2.1.0"
  }
 },
 "nbformat": 4,
 "nbformat_minor": 4
}
